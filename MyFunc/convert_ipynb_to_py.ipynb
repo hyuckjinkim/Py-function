{
 "cells": [
  {
   "cell_type": "code",
   "execution_count": 1,
   "id": "5a45a5c6",
   "metadata": {},
   "outputs": [
    {
     "name": "stdout",
     "output_type": "stream",
     "text": [
      "Collecting ipynb-py-convert\n",
      "  Downloading ipynb-py-convert-0.4.6.tar.gz (3.9 kB)\n",
      "  Preparing metadata (setup.py) ... \u001b[?25ldone\n",
      "\u001b[?25hBuilding wheels for collected packages: ipynb-py-convert\n",
      "  Building wheel for ipynb-py-convert (setup.py) ... \u001b[?25ldone\n",
      "\u001b[?25h  Created wheel for ipynb-py-convert: filename=ipynb_py_convert-0.4.6-py3-none-any.whl size=4625 sha256=93f543ff722c41092376fd587e57585714ea553f053a93a8f9db80cfa84e9043\n",
      "  Stored in directory: /home/ec2-user/.cache/pip/wheels/ff/9e/99/fc085c54e929b666393011a643e0fde8f749f4b98063a1a08a\n",
      "Successfully built ipynb-py-convert\n",
      "Installing collected packages: ipynb-py-convert\n",
      "Successfully installed ipynb-py-convert-0.4.6\n"
     ]
    }
   ],
   "source": [
    "!pip install ipynb-py-convert"
   ]
  },
  {
   "cell_type": "code",
   "execution_count": 3,
   "id": "4db69331",
   "metadata": {},
   "outputs": [],
   "source": [
    "!ipynb-py-convert KeywordPreprocessing.ipynb KeywordPreprocessing.py"
   ]
  }
 ],
 "metadata": {
  "kernelspec": {
   "display_name": "Python 3 (ipykernel)",
   "language": "python",
   "name": "python3"
  },
  "language_info": {
   "codemirror_mode": {
    "name": "ipython",
    "version": 3
   },
   "file_extension": ".py",
   "mimetype": "text/x-python",
   "name": "python",
   "nbconvert_exporter": "python",
   "pygments_lexer": "ipython3",
   "version": "3.9.7"
  }
 },
 "nbformat": 4,
 "nbformat_minor": 5
}
